{
 "cells": [
  {
   "cell_type": "markdown",
   "metadata": {},
   "source": [
    "# Data Augmentation\n",
    "\n",
    "<img src=\"https://vlibras.gov.br/assets/imgs/VLibrasLogoBarraPrincipal.png\" width=\"150px\" />\n",
    "\n",
    "Neste notebook iremos realizar um técnica nos nossos dados chamada *data augmentation*. Esse processo tem como objetivo aumentar e diversificar nosso conjunto de dados. \n",
    "\n",
    "**OBS.** Os dados utilizados neste notebook não possui compatibilidade com a utilizada real na [Suite VLibras](https://www.vlibras.gov.br/)."
   ]
  },
  {
   "cell_type": "markdown",
   "metadata": {},
   "source": [
    "## 1. Dependências"
   ]
  },
  {
   "cell_type": "code",
   "execution_count": 9,
   "metadata": {},
   "outputs": [],
   "source": [
    "import re\n",
    "import pandas as pd\n",
    "from tqdm import tqdm"
   ]
  },
  {
   "cell_type": "markdown",
   "metadata": {},
   "source": [
    "## 2. Leitura da lista lugares\n",
    "\n",
    "Iremos carregar nossa lista de lugares já pre-processada no formato *csv*."
   ]
  },
  {
   "cell_type": "code",
   "execution_count": 23,
   "metadata": {},
   "outputs": [
    {
     "name": "stdout",
     "output_type": "stream",
     "text": [
      "<bound method NDFrame.tail of                0\n",
      "0         abatiá\n",
      "1          acari\n",
      "2           acre\n",
      "3       adustina\n",
      "4    afeganistão\n",
      "..           ...\n",
      "852       águeda\n",
      "853        árabe\n",
      "854         ásia\n",
      "855      áustria\n",
      "856        índia\n",
      "\n",
      "[857 rows x 1 columns]>\n"
     ]
    }
   ],
   "source": [
    "df_places = pd.read_csv('data/lugares.csv', header=None)\n",
    "print(df_places.tail)"
   ]
  },
  {
   "cell_type": "code",
   "execution_count": 36,
   "metadata": {},
   "outputs": [
    {
     "name": "stdout",
     "output_type": "stream",
     "text": [
      "['ABATIÁ', 'ACARI', 'ACRE', 'ADUSTINA', 'AFEGANISTÃO', 'AFRICA', 'AJACCIO', 'AKMOLINSK', 'ALAGOA', 'ALAGOAS', 'ALAGOINHA', 'ALAMBARI', 'ALASCA', 'ALBUGNANO', 'ALBÂNIA', 'ALCOBAÇA', 'ALCÂNTARA', 'ALEMANHA', 'ALEXANDRIA', 'ALGARVE', 'ALGECIRA', 'ALGUEIRO', 'ALMADA', 'ALTAMIRA', 'AMAPÁ', 'AMAZONAS', 'AMERICANA', 'ANAHY', 'ANASTÁCIO', 'ANATÓLIA', 'ANDARAÍ', 'ANGELÂNDIA', 'ANGOLA', 'ANTAS', 'ANTIOQUIA', 'ANTÁLIA', 'APARECIDA', 'APIAÍ', 'APORÉ', 'APUCARANA', 'AQUIDAUANA', 'ARACAJU', 'ARACRUZ', 'ARAGÃO', 'ARAMENGO', 'ARARANGUÁ', 'ARARAQUARA', 'ARARI', 'ARARIPE', 'ARAÇATUBA', 'AREALVA', 'AREZ', 'ARGENTINA', 'ARGENTINO', 'ARGÉLIA', 'ARIPUANÃ', 'ARÁBIA', 'ASSIS', 'ASSÍRIA', 'ATENA', 'ATENAS', 'AUSTIN', 'AUSTRALIA', 'AUSTRÁLIA', 'AUSTRÍA', 'AVINHÃO', 'AVRANCHIN', 'AXUM', 'AZZIO', 'AÇAILÂNDIA', 'BABILÔNIA', 'BAGDÁ', 'BAGÉ', 'BAHIA', 'BAHRAIN', 'BAHREIN', 'BALLABIO', 'BANGCOC', 'BANGKOK', 'BANZAÊ', 'BARASSO', 'BARBADO', 'BARBANIA', 'BARCELONA', 'BARRINHA', 'BASILEIA', 'BASTIA', 'BAYEUX', 'BAÍA', 'BELFAST', 'BELGA', 'BELGRADO', 'BELO HORIZONTE', 'BELÉM', 'BENIM', 'BENIN', 'BENTO', 'BERLIM', 'BESSIN', 'BIELEFELD']\n"
     ]
    }
   ],
   "source": [
    "_list_places = [row[0].upper() for index, row in df_places.iterrows()]\n",
    "print(_list_places[:100])"
   ]
  },
  {
   "cell_type": "code",
   "execution_count": null,
   "metadata": {},
   "outputs": [],
   "source": []
  }
 ],
 "metadata": {
  "kernelspec": {
   "display_name": "Python 3",
   "language": "python",
   "name": "python3"
  },
  "language_info": {
   "codemirror_mode": {
    "name": "ipython",
    "version": 3
   },
   "file_extension": ".py",
   "mimetype": "text/x-python",
   "name": "python",
   "nbconvert_exporter": "python",
   "pygments_lexer": "ipython3",
   "version": "3.7.6"
  }
 },
 "nbformat": 4,
 "nbformat_minor": 4
}
