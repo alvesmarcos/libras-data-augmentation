{
 "cells": [
  {
   "cell_type": "markdown",
   "metadata": {},
   "source": [
    "# Data Augmentation\n",
    "\n",
    "<img src=\"https://vlibras.gov.br/assets/imgs/VLibrasLogoBarraPrincipal.png\" width=\"150px\" />\n",
    "\n",
    "Neste notebook iremos realizar um técnica na nossa base dados chamada *data augmentation*. Esse processo tem como objetivo aumentar e diversificar nosso conjunto de dados. "
   ]
  },
  {
   "cell_type": "markdown",
   "metadata": {},
   "source": [
    "## 0. Dependências"
   ]
  },
  {
   "cell_type": "code",
   "execution_count": 28,
   "metadata": {},
   "outputs": [],
   "source": [
    "import re\n",
    "import random\n",
    "import pandas as pd\n",
    "from tqdm import tqdm"
   ]
  },
  {
   "cell_type": "markdown",
   "metadata": {},
   "source": [
    "## 1. Helpers\n",
    "\n",
    "Metodos auxiliares que serão utilizados ao longo deste notebook."
   ]
  },
  {
   "cell_type": "code",
   "execution_count": 29,
   "metadata": {},
   "outputs": [],
   "source": [
    "def row_search(current, list_gr, list_gi):\n",
    "    _list = list()\n",
    "    words_gr = current['gr'].split()\n",
    "    words_gi = current['gi'].split()\n",
    "    \n",
    "    for item_gr, item_gi in zip(list_gr, list_gi):\n",
    "        if item_gr in words_gr and item_gi in words_gi:\n",
    "            _list.append((item_gr, item_gi))\n",
    "    return _list"
   ]
  },
  {
   "cell_type": "markdown",
   "metadata": {},
   "source": [
    "## 2. Augmentation para Lugares\n",
    "\n",
    "Usando um arquivo de contendo todos os locais sinalizados, detectar locais em frases e substituir por outros locais. Por exemplo:\n",
    "\n",
    "(*VIAJAR RECIFE ONTEM*,*VIAJAR RECIFE&CIDADE ONTEM*)\n",
    "\n",
    "Deve adicionar frases como as seguintes, a lista de frases do pipeline:\n",
    "\n",
    "(**VIAJAR BRASÍLIA ONTEM**, **VIAJAR BRASÍLIA&CIDADE ONTEM**)\n",
    "\n",
    "(**VIAJAR RIO_DE_JANEIRO ONTEM**,**VIAJAR RIO_DE_JANEIRO&CIDADE ONTEM**)"
   ]
  },
  {
   "cell_type": "markdown",
   "metadata": {},
   "source": [
    "### Leitura do arquivo\n",
    "\n",
    "Iremos carregar uma lista de lugares junto com seus respectivos contextos. A primeira coluna apresenta o nome literal da **Cidade**, **País** ou **Estado** a segunda columa apresenta, alem do nome, o respectivo contexto (*Cidade/País/Estado*) do lugar. "
   ]
  },
  {
   "cell_type": "code",
   "execution_count": 30,
   "metadata": {},
   "outputs": [
    {
     "name": "stdout",
     "output_type": "stream",
     "text": [
      "<bound method NDFrame.tail of                gr                    gi\n",
      "0          BRASIL           BRASIL&PAÍS\n",
      "1          PARANÁ         PARANÁ&ESTADO\n",
      "2          MACAPÁ         MACAPÁ&CIDADE\n",
      "3   FLORIANÓPOLIS  FLORIANÓPOLIS&CIDADE\n",
      "4           NATAL          NATAL&CIDADE\n",
      "5       ARGENTINA        ARGENTINA&PAÍS\n",
      "6          ITÁLIA           ITÁLIA&PAÍS\n",
      "7           BELÉM          BELÉM&CIDADE\n",
      "8       FORTALEZA      FORTALEZA&CIDADE\n",
      "9          RECIFE         RECIFE&CIDADE\n",
      "10         PALMAS         PALMAS&CIDADE\n",
      "11       SALVADOR       SALVADOR&CIDADE\n",
      "12          BAHIA          BAHIA&ESTADO\n",
      "13       RONDÔNIA       RONDÔNIA&ESTADO\n",
      "14       BRASÍLIA       BRASÍLIA&CIDADE\n",
      "15      AUSTRÁLIA        AUSTRÁLIA&PAÍS\n",
      "16         CUIABÁ         CUIABÁ&CIDADE\n",
      "17        ARACAJU        ARACAJU&CIDADE\n",
      "18        GOIÂNIA        GOIÂNIA&CIDADE\n",
      "19         RÚSSIA           RÚSSIA&PAÍS\n",
      "20       MARANHÃO       MARANHÃO&ESTADO\n",
      "21          PIAUÍ          PIAUÍ&ESTADO\n",
      "22          AMAPÁ          AMAPÁ&ESTADO\n",
      "23           ACRE           ACRE&ESTADO\n",
      "24         CANADÁ           CANADÁ&PAÍS\n",
      "25       TERESINA       TERESINA&CIDADE\n",
      "26      TOCANTINS      TOCANTINS&ESTADO\n",
      "27         FRANÇA           FRANÇA&PAÍS\n",
      "28     PERNAMBUCO     PERNAMBUCO&ESTADO\n",
      "29       CURITIBA       CURITIBA&CIDADE\n",
      "30          JAPÃO            JAPÃO&PAÍS\n",
      "31        SERGIPE        SERGIPE&ESTADO\n",
      "32          ÍNDIA            ÍNDIA&PAÍS\n",
      "33       ALEMANHA         ALEMANHA&PAÍS\n",
      "34        TURQUIA          TURQUIA&PAÍS\n",
      "35      INDONÉSIA        INDONÉSIA&PAÍS\n",
      "36        PARAÍBA        PARAÍBA&ESTADO\n",
      "37        VITÓRIA        VITÓRIA&CIDADE\n",
      "38          GOIÁS          GOIÁS&ESTADO\n",
      "39        ALAGOAS        ALAGOAS&ESTADO\n",
      "40         MACEIÓ         MACEIÓ&CIDADE\n",
      "41       AMAZONAS       AMAZONAS&ESTADO\n",
      "42          CEARÁ          CEARÁ&ESTADO\n",
      "43         MÉXICO           MÉXICO&PAÍS\n",
      "44         MANAUS         MANAUS&CIDADE\n",
      "45           PARÁ           PARÁ&ESTADO\n",
      "46        RORAIMA        RORAIMA&ESTADO\n",
      "47          CHINA            CHINA&PAÍS>\n"
     ]
    }
   ],
   "source": [
    "df_places = pd.read_csv('data/lugares.csv')\n",
    "print(df_places.tail)"
   ]
  },
  {
   "cell_type": "code",
   "execution_count": 31,
   "metadata": {},
   "outputs": [
    {
     "name": "stdout",
     "output_type": "stream",
     "text": [
      "['BRASIL', 'PARANÁ', 'MACAPÁ', 'FLORIANÓPOLIS', 'NATAL', 'ARGENTINA', 'ITÁLIA', 'BELÉM', 'FORTALEZA', 'RECIFE', 'PALMAS', 'SALVADOR', 'BAHIA', 'RONDÔNIA', 'BRASÍLIA', 'AUSTRÁLIA', 'CUIABÁ', 'ARACAJU', 'GOIÂNIA', 'RÚSSIA', 'MARANHÃO', 'PIAUÍ', 'AMAPÁ', 'ACRE', 'CANADÁ', 'TERESINA', 'TOCANTINS', 'FRANÇA', 'PERNAMBUCO', 'CURITIBA', 'JAPÃO', 'SERGIPE', 'ÍNDIA', 'ALEMANHA', 'TURQUIA', 'INDONÉSIA', 'PARAÍBA', 'VITÓRIA', 'GOIÁS', 'ALAGOAS', 'MACEIÓ', 'AMAZONAS', 'CEARÁ', 'MÉXICO', 'MANAUS', 'PARÁ', 'RORAIMA', 'CHINA']\n",
      "['BRASIL&PAÍS', 'PARANÁ&ESTADO', 'MACAPÁ&CIDADE', 'FLORIANÓPOLIS&CIDADE', 'NATAL&CIDADE', 'ARGENTINA&PAÍS', 'ITÁLIA&PAÍS', 'BELÉM&CIDADE', 'FORTALEZA&CIDADE', 'RECIFE&CIDADE', 'PALMAS&CIDADE', 'SALVADOR&CIDADE', 'BAHIA&ESTADO', 'RONDÔNIA&ESTADO', 'BRASÍLIA&CIDADE', 'AUSTRÁLIA&PAÍS', 'CUIABÁ&CIDADE', 'ARACAJU&CIDADE', 'GOIÂNIA&CIDADE', 'RÚSSIA&PAÍS', 'MARANHÃO&ESTADO', 'PIAUÍ&ESTADO', 'AMAPÁ&ESTADO', 'ACRE&ESTADO', 'CANADÁ&PAÍS', 'TERESINA&CIDADE', 'TOCANTINS&ESTADO', 'FRANÇA&PAÍS', 'PERNAMBUCO&ESTADO', 'CURITIBA&CIDADE', 'JAPÃO&PAÍS', 'SERGIPE&ESTADO', 'ÍNDIA&PAÍS', 'ALEMANHA&PAÍS', 'TURQUIA&PAÍS', 'INDONÉSIA&PAÍS', 'PARAÍBA&ESTADO', 'VITÓRIA&CIDADE', 'GOIÁS&ESTADO', 'ALAGOAS&ESTADO', 'MACEIÓ&CIDADE', 'AMAZONAS&ESTADO', 'CEARÁ&ESTADO', 'MÉXICO&PAÍS', 'MANAUS&CIDADE', 'PARÁ&ESTADO', 'RORAIMA&ESTADO', 'CHINA&PAÍS']\n"
     ]
    }
   ],
   "source": [
    "list_places_gr, list_places_gi = df_places['gr'].values.tolist(), df_places['gi'].values.tolist()\n",
    "print(list_places_gr)\n",
    "print(list_places_gi)"
   ]
  },
  {
   "cell_type": "markdown",
   "metadata": {},
   "source": [
    "### Gerando novas frases\n",
    "\n",
    "Iremos gerar novas frases baseando na lista que carregamos no passo anterior e no **corpus de entrada**. Por enquanto, o corpus contém apenas 4 frases aleatórias."
   ]
  },
  {
   "cell_type": "code",
   "execution_count": 32,
   "metadata": {},
   "outputs": [
    {
     "name": "stdout",
     "output_type": "stream",
     "text": [
      "                                       gr  \\\n",
      "0                     VIAJAR RECIFE ONTEM   \n",
      "1                   VIAJAR AMAZONAS ONTEM   \n",
      "2  EM DEZEMBRO NO NATAL VIAJAR PARA NATAL   \n",
      "3           VIAJAR MANAUS CHEGAR ALEMANHA   \n",
      "\n",
      "                                              gi  \n",
      "0                     VIAJAR RECIFE&CIDADE ONTEM  \n",
      "1                   VIAJAR AMAZONAS&ESTADO ONTEM  \n",
      "2  EM DEZEMBRO NO NATAL VIAJAR PARA NATAL&CIDADE  \n",
      "3      VIAJAR MANAUS&CIDADE CHEGAR ALEMANHA&PAÍS  \n"
     ]
    }
   ],
   "source": [
    "corpus = pd.DataFrame({ 'gr': ['VIAJAR RECIFE ONTEM', 'VIAJAR AMAZONAS ONTEM', 'EM DEZEMBRO NO NATAL VIAJAR PARA NATAL', 'VIAJAR MANAUS CHEGAR ALEMANHA'], 'gi': ['VIAJAR RECIFE&CIDADE ONTEM', 'VIAJAR AMAZONAS&ESTADO ONTEM', 'EM DEZEMBRO NO NATAL VIAJAR PARA NATAL&CIDADE', 'VIAJAR MANAUS&CIDADE CHEGAR ALEMANHA&PAÍS']})\n",
    "print(corpus)"
   ]
  },
  {
   "cell_type": "code",
   "execution_count": 33,
   "metadata": {},
   "outputs": [],
   "source": [
    "MAX_EXAMPLES_CORPUS = 10 if corpus.shape[0] >= 10 else corpus.shape[0] # numero maximo de amostra que serao utilizadas para gerar outras frases\n",
    "MAX_EXAMPLES_PLACES = 20 if df_places.shape[0] >= 20 else df_places.shape[0] # numero maximo de locais que serao utilizados nas novas frases"
   ]
  },
  {
   "cell_type": "code",
   "execution_count": 34,
   "metadata": {},
   "outputs": [
    {
     "name": "stdout",
     "output_type": "stream",
     "text": [
      "                                       gr  \\\n",
      "3           VIAJAR MANAUS CHEGAR ALEMANHA   \n",
      "1                   VIAJAR AMAZONAS ONTEM   \n",
      "2  EM DEZEMBRO NO NATAL VIAJAR PARA NATAL   \n",
      "0                     VIAJAR RECIFE ONTEM   \n",
      "\n",
      "                                              gi  \n",
      "3      VIAJAR MANAUS&CIDADE CHEGAR ALEMANHA&PAÍS  \n",
      "1                   VIAJAR AMAZONAS&ESTADO ONTEM  \n",
      "2  EM DEZEMBRO NO NATAL VIAJAR PARA NATAL&CIDADE  \n",
      "0                     VIAJAR RECIFE&CIDADE ONTEM  \n",
      "           gr               gi\n",
      "14   BRASÍLIA  BRASÍLIA&CIDADE\n",
      "7       BELÉM     BELÉM&CIDADE\n",
      "2      MACAPÁ    MACAPÁ&CIDADE\n",
      "46    RORAIMA   RORAIMA&ESTADO\n",
      "15  AUSTRÁLIA   AUSTRÁLIA&PAÍS\n",
      "17    ARACAJU   ARACAJU&CIDADE\n",
      "27     FRANÇA      FRANÇA&PAÍS\n",
      "20   MARANHÃO  MARANHÃO&ESTADO\n",
      "45       PARÁ      PARÁ&ESTADO\n",
      "32      ÍNDIA       ÍNDIA&PAÍS\n",
      "40     MACEIÓ    MACEIÓ&CIDADE\n",
      "12      BAHIA     BAHIA&ESTADO\n",
      "9      RECIFE    RECIFE&CIDADE\n",
      "35  INDONÉSIA   INDONÉSIA&PAÍS\n",
      "19     RÚSSIA      RÚSSIA&PAÍS\n",
      "43     MÉXICO      MÉXICO&PAÍS\n",
      "38      GOIÁS     GOIÁS&ESTADO\n",
      "18    GOIÂNIA   GOIÂNIA&CIDADE\n",
      "47      CHINA       CHINA&PAÍS\n",
      "29   CURITIBA  CURITIBA&CIDADE\n"
     ]
    }
   ],
   "source": [
    "corpus_sample = corpus.sample(MAX_EXAMPLES_CORPUS) # corpus base utilizado para gerar novas frases (para cada linha serao gerados novas frases)\n",
    "places_sample = df_places.sample(MAX_EXAMPLES_PLACES) # lugares que serao utilizados nas novas frases\n",
    "print(corpus_sample)\n",
    "print(places_sample)"
   ]
  },
  {
   "cell_type": "code",
   "execution_count": 37,
   "metadata": {},
   "outputs": [
    {
     "name": "stderr",
     "output_type": "stream",
     "text": [
      "100%|██████████| 4/4 [00:00<00:00, 462.27it/s]\n"
     ]
    }
   ],
   "source": [
    "df_augmentation_places = pd.DataFrame()\n",
    "for index, row in tqdm(corpus_sample.iterrows(), total=corpus_sample.shape[0]):\n",
    "    literals = row_search(row, list_places_gr, list_places_gi)\n",
    "    for (literal_gr, literal_gi) in literals:\n",
    "        occurrences = (re.findall(literal_gr, row['gr']), re.findall(literal_gi, row['gi']))\n",
    "        if len(occurrences[0]) == 1 and len(occurrences[1]) == 1:\n",
    "            list_gr = [re.sub(literal_gr, place, row['gr']) for place in list_places_gr[:MAX_EXAMPLES_PLACES] if literal_gr != place]\n",
    "            list_gi = [re.sub(literal_gi, place, row['gi']) for place in list_places_gi[:MAX_EXAMPLES_PLACES] if literal_gi != place]\n",
    "            df = pd.DataFrame({'gr': list_gr, 'gi': list_gi})\n",
    "            df_augmentation_places = df_augmentation_places.append(df, ignore_index=True)"
   ]
  },
  {
   "cell_type": "code",
   "execution_count": 38,
   "metadata": {},
   "outputs": [
    {
     "data": {
      "text/html": [
       "<div>\n",
       "<style scoped>\n",
       "    .dataframe tbody tr th:only-of-type {\n",
       "        vertical-align: middle;\n",
       "    }\n",
       "\n",
       "    .dataframe tbody tr th {\n",
       "        vertical-align: top;\n",
       "    }\n",
       "\n",
       "    .dataframe thead th {\n",
       "        text-align: right;\n",
       "    }\n",
       "</style>\n",
       "<table border=\"1\" class=\"dataframe\">\n",
       "  <thead>\n",
       "    <tr style=\"text-align: right;\">\n",
       "      <th></th>\n",
       "      <th>gr</th>\n",
       "      <th>gi</th>\n",
       "    </tr>\n",
       "  </thead>\n",
       "  <tbody>\n",
       "    <tr>\n",
       "      <th>0</th>\n",
       "      <td>VIAJAR MANAUS CHEGAR BRASIL</td>\n",
       "      <td>VIAJAR MANAUS&amp;CIDADE CHEGAR BRASIL&amp;PAÍS</td>\n",
       "    </tr>\n",
       "    <tr>\n",
       "      <th>1</th>\n",
       "      <td>VIAJAR MANAUS CHEGAR PARANÁ</td>\n",
       "      <td>VIAJAR MANAUS&amp;CIDADE CHEGAR PARANÁ&amp;ESTADO</td>\n",
       "    </tr>\n",
       "    <tr>\n",
       "      <th>2</th>\n",
       "      <td>VIAJAR MANAUS CHEGAR MACAPÁ</td>\n",
       "      <td>VIAJAR MANAUS&amp;CIDADE CHEGAR MACAPÁ&amp;CIDADE</td>\n",
       "    </tr>\n",
       "    <tr>\n",
       "      <th>3</th>\n",
       "      <td>VIAJAR MANAUS CHEGAR FLORIANÓPOLIS</td>\n",
       "      <td>VIAJAR MANAUS&amp;CIDADE CHEGAR FLORIANÓPOLIS&amp;CIDADE</td>\n",
       "    </tr>\n",
       "    <tr>\n",
       "      <th>4</th>\n",
       "      <td>VIAJAR MANAUS CHEGAR NATAL</td>\n",
       "      <td>VIAJAR MANAUS&amp;CIDADE CHEGAR NATAL&amp;CIDADE</td>\n",
       "    </tr>\n",
       "    <tr>\n",
       "      <th>...</th>\n",
       "      <td>...</td>\n",
       "      <td>...</td>\n",
       "    </tr>\n",
       "    <tr>\n",
       "      <th>74</th>\n",
       "      <td>VIAJAR AUSTRÁLIA ONTEM</td>\n",
       "      <td>VIAJAR AUSTRÁLIA&amp;PAÍS ONTEM</td>\n",
       "    </tr>\n",
       "    <tr>\n",
       "      <th>75</th>\n",
       "      <td>VIAJAR CUIABÁ ONTEM</td>\n",
       "      <td>VIAJAR CUIABÁ&amp;CIDADE ONTEM</td>\n",
       "    </tr>\n",
       "    <tr>\n",
       "      <th>76</th>\n",
       "      <td>VIAJAR ARACAJU ONTEM</td>\n",
       "      <td>VIAJAR ARACAJU&amp;CIDADE ONTEM</td>\n",
       "    </tr>\n",
       "    <tr>\n",
       "      <th>77</th>\n",
       "      <td>VIAJAR GOIÂNIA ONTEM</td>\n",
       "      <td>VIAJAR GOIÂNIA&amp;CIDADE ONTEM</td>\n",
       "    </tr>\n",
       "    <tr>\n",
       "      <th>78</th>\n",
       "      <td>VIAJAR RÚSSIA ONTEM</td>\n",
       "      <td>VIAJAR RÚSSIA&amp;PAÍS ONTEM</td>\n",
       "    </tr>\n",
       "  </tbody>\n",
       "</table>\n",
       "<p>79 rows × 2 columns</p>\n",
       "</div>"
      ],
      "text/plain": [
       "                                    gr  \\\n",
       "0          VIAJAR MANAUS CHEGAR BRASIL   \n",
       "1          VIAJAR MANAUS CHEGAR PARANÁ   \n",
       "2          VIAJAR MANAUS CHEGAR MACAPÁ   \n",
       "3   VIAJAR MANAUS CHEGAR FLORIANÓPOLIS   \n",
       "4           VIAJAR MANAUS CHEGAR NATAL   \n",
       "..                                 ...   \n",
       "74              VIAJAR AUSTRÁLIA ONTEM   \n",
       "75                 VIAJAR CUIABÁ ONTEM   \n",
       "76                VIAJAR ARACAJU ONTEM   \n",
       "77                VIAJAR GOIÂNIA ONTEM   \n",
       "78                 VIAJAR RÚSSIA ONTEM   \n",
       "\n",
       "                                                  gi  \n",
       "0            VIAJAR MANAUS&CIDADE CHEGAR BRASIL&PAÍS  \n",
       "1          VIAJAR MANAUS&CIDADE CHEGAR PARANÁ&ESTADO  \n",
       "2          VIAJAR MANAUS&CIDADE CHEGAR MACAPÁ&CIDADE  \n",
       "3   VIAJAR MANAUS&CIDADE CHEGAR FLORIANÓPOLIS&CIDADE  \n",
       "4           VIAJAR MANAUS&CIDADE CHEGAR NATAL&CIDADE  \n",
       "..                                               ...  \n",
       "74                       VIAJAR AUSTRÁLIA&PAÍS ONTEM  \n",
       "75                        VIAJAR CUIABÁ&CIDADE ONTEM  \n",
       "76                       VIAJAR ARACAJU&CIDADE ONTEM  \n",
       "77                       VIAJAR GOIÂNIA&CIDADE ONTEM  \n",
       "78                          VIAJAR RÚSSIA&PAÍS ONTEM  \n",
       "\n",
       "[79 rows x 2 columns]"
      ]
     },
     "execution_count": 38,
     "metadata": {},
     "output_type": "execute_result"
    }
   ],
   "source": [
    "df_augmentation_places"
   ]
  }
 ],
 "metadata": {
  "kernelspec": {
   "display_name": "Python 3",
   "language": "python",
   "name": "python3"
  },
  "language_info": {
   "codemirror_mode": {
    "name": "ipython",
    "version": 3
   },
   "file_extension": ".py",
   "mimetype": "text/x-python",
   "name": "python",
   "nbconvert_exporter": "python",
   "pygments_lexer": "ipython3",
   "version": "3.7.6"
  }
 },
 "nbformat": 4,
 "nbformat_minor": 4
}
