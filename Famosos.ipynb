{
 "cells": [
  {
   "cell_type": "markdown",
   "metadata": {},
   "source": [
    "# Data Augmentation Famosos\n",
    "\n",
    "<img src=\"https://vlibras.gov.br/assets/imgs/VLibrasLogoBarraPrincipal.png\" width=\"150px\" />"
   ]
  },
  {
   "cell_type": "code",
   "execution_count": 1,
   "metadata": {},
   "outputs": [],
   "source": [
    "import re\n",
    "import random\n",
    "import pandas as pd"
   ]
  },
  {
   "cell_type": "markdown",
   "metadata": {},
   "source": [
    "<h2>Função de augmentation</h2>\n",
    "\n",
    "Esta função tem por objetivo pegar uma tupla com a glosa de regra e glosa de ínterprete de uma única linha e retornar uma lista de tuplas com seus elementos sendo a mesma linha, porém com uma pequena modificação."
   ]
  },
  {
   "cell_type": "code",
   "execution_count": 2,
   "metadata": {},
   "outputs": [],
   "source": [
    "def augmentation_famosos(line, re_gr, re_gi, famososExamples_gr, famososExamples_gi, dict_gr, dict_gi):\n",
    "    lista = list()\n",
    "    \n",
    "    line_gr = line[0]\n",
    "    line_gi = line[1]\n",
    "    \n",
    "    occurences_gr = re.search(re_gr, line_gr)\n",
    "    occurences_gi = re.search(re_gi, line_gi)\n",
    "    \n",
    "    if occurences_gr and occurences_gi:\n",
    "        for index, (famoso_gr, famoso_gi) in enumerate(list(zip(famososExamples_gr, famososExamples_gi))):\n",
    "            if index == 18:\n",
    "                break\n",
    "            \n",
    "            if re.findall(dict_gr[famoso_gr], line_gr) == [] and re.findall(dict_gi[famoso_gi], line_gi) == []:\n",
    "                lista.append((re.sub(re_gr, famoso_gr, line_gr, 1), re.sub(re_gi, famoso_gi, line_gi, 1)))\n",
    "    \n",
    "        \n",
    "        return lista\n",
    "    \n",
    "    return [(line_gr, line_gi)]"
   ]
  },
  {
   "cell_type": "code",
   "execution_count": 3,
   "metadata": {},
   "outputs": [],
   "source": [
    "df_famosos = pd.read_csv('data/famosos_teste.csv')"
   ]
  },
  {
   "cell_type": "code",
   "execution_count": 4,
   "metadata": {},
   "outputs": [
    {
     "name": "stdout",
     "output_type": "stream",
     "text": [
      "                    gr                         gi\n",
      "20         JÚLIO CÉSAR         JÚLIO_CÉSAR&FAMOSO\n",
      "19      JORGE OLIVEIRA      JORGE_OLIVEIRA&FAMOSO\n",
      "42                PELÉ                PELÉ&FAMOSO\n",
      "4     BENTO COSTA LIMA    BENTO_COSTA_LIMA&FAMOSO\n",
      "24       MACHADO ASSIS       MACHADO_ASSIS&FAMOSO\n",
      "30  MICHELLE BOLSONARO  MICHELLE_BOLSONARO&FAMOSO\n",
      "45         SÉRGIO MORO         SÉRGIO_MORO&FAMOSO\n",
      "13     HAMILTON MOURÃO     HAMILTON_MOURÃO&FAMOSO\n",
      "48          TIRADENTES          TIRADENTES&FAMOSO\n",
      "3       AUGUSTO HELENO      AUGUSTO_HELENO&FAMOSO\n"
     ]
    }
   ],
   "source": [
    "print(df_famosos.sample(10))"
   ]
  },
  {
   "cell_type": "markdown",
   "metadata": {},
   "source": [
    "<h2>Criação das expressões do regex</h2>\n",
    "\n",
    "Aqui são criadas as expressões que serão usadas para a troca de palavras do regex (guardada no dicionário match_famoso) e a expressão que deve verificar se o augmentation deverá ser realizado nesta linha."
   ]
  },
  {
   "cell_type": "code",
   "execution_count": 5,
   "metadata": {},
   "outputs": [],
   "source": [
    "famosos_gr, famosos_gi = df_famosos['gr'].values.tolist(), df_famosos['gi'].values.tolist()\n",
    "combined_gr = \"\"\n",
    "combined_gi = \"\"\n",
    "match_famoso_gr = {}\n",
    "match_famoso_gi = {}"
   ]
  },
  {
   "cell_type": "code",
   "execution_count": 6,
   "metadata": {},
   "outputs": [],
   "source": [
    "for (famoso_gr, famoso_gi) in list(zip(famosos_gr, famosos_gi)):\n",
    "    lista_gr = famoso_gr.split(' ')\n",
    "    lista_gi = famoso_gi.split('_')\n",
    "    match_famoso_gr[famoso_gr] = \"\"\n",
    "    match_famoso_gi[famoso_gi] = \"\"\n",
    "    combined_gr += \"(\\\\b\" + lista_gr[-1] + \"\\\\b)|\"\n",
    "    combined_gi += \"(\" + lista_gi[-1] + \"\\\\b)|\"\n",
    "    \n",
    "    for i in range(0, len(lista_gr) - 1):\n",
    "        match_famoso_gr[famoso_gr] += \"(\\\\b\" + (lista_gr[i]) + \"\\\\b)?(\\s)?\"\n",
    "    for j in range(0, len(lista_gi) - 1):\n",
    "        match_famoso_gi[famoso_gi] += \"(\" + (lista_gi[j]) + \"_)?\"\n",
    "        \n",
    "    match_famoso_gr[famoso_gr] += \"(\\\\b\" + (''.join(lista_gr[-1:])) + \"\\\\b)\"\n",
    "    match_famoso_gr[famoso_gr] = r\"\" + match_famoso_gr[famoso_gr]\n",
    "    match_famoso_gi[famoso_gi] += \"((\" + (''.join(lista_gi[-1:])) + \"))\"\n",
    "    match_famoso_gi[famoso_gi] = r\"\" + match_famoso_gi[famoso_gi]\n",
    "    \n",
    "combined_gr = combined_gr[:-1]\n",
    "re_gr = r\"\" + combined_gr\n",
    "combined_gi = combined_gi[:-1]\n",
    "re_gi = r\"\" + combined_gi"
   ]
  },
  {
   "cell_type": "markdown",
   "metadata": {
    "scrolled": true
   },
   "source": [
    "<h2>Aqui são as frases que serão usadas como exemplo para o augmentation:</h2>"
   ]
  },
  {
   "cell_type": "code",
   "execution_count": 7,
   "metadata": {},
   "outputs": [],
   "source": [
    "teste_frases = [('WEINTRAUB CONVERSAR JAIR BOLSONARO', 'WEINTRAUB&FAMOSO CONVERSAR JAIR_BOLSONARO&FAMOSO'), ('WEINTRAUB SAIR', 'WEINTRAUB&FAMOSO SAIR'),\n",
    "                ('JOHN LENNON IR CASA', 'JOHN_LENNON&FAMOSO IR CASA'), ('HARRY POTTER CONVERSAR HITLER', 'HARRY_POTTER&FAMOSO CONVERSAR HITLER&FAMOSO'),\n",
    "                ('OPA', 'OPA')]"
   ]
  },
  {
   "cell_type": "markdown",
   "metadata": {},
   "source": [
    "<h2>Aqui será realizado o augmentation para cada linha do arquivo:</h2>"
   ]
  },
  {
   "cell_type": "code",
   "execution_count": 8,
   "metadata": {},
   "outputs": [
    {
     "name": "stdout",
     "output_type": "stream",
     "text": [
      "[('ALEXANDRE GRANDE CONVERSAR JAIR BOLSONARO', 'ALEXANDRE_GRANDE&FAMOSO CONVERSAR JAIR_BOLSONARO&FAMOSO'), ('ANDRÉ LUIZ ALMEIDA CONVERSAR JAIR BOLSONARO', 'ANDRÉ_LUIZ_ALMEIDA&FAMOSO CONVERSAR JAIR_BOLSONARO&FAMOSO'), ('AUGUSTO HELENO CONVERSAR JAIR BOLSONARO', 'AUGUSTO_HELENO&FAMOSO CONVERSAR JAIR_BOLSONARO&FAMOSO'), ('BENTO COSTA LIMA CONVERSAR JAIR BOLSONARO', 'BENTO_COSTA_LIMA&FAMOSO CONVERSAR JAIR_BOLSONARO&FAMOSO'), ('CAZUZA CONVERSAR JAIR BOLSONARO', 'CAZUZA&FAMOSO CONVERSAR JAIR_BOLSONARO&FAMOSO'), ('DAMARES ALVES CONVERSAR JAIR BOLSONARO', 'DAMARES_ALVES&FAMOSO CONVERSAR JAIR_BOLSONARO&FAMOSO'), ('ERNESTO ARAÚJO CONVERSAR JAIR BOLSONARO', 'ERNESTO_ARAÚJO&FAMOSO CONVERSAR JAIR_BOLSONARO&FAMOSO'), ('FERNANDO AZEVEDO CONVERSAR JAIR BOLSONARO', 'FERNANDO_AZEVEDO&FAMOSO CONVERSAR JAIR_BOLSONARO&FAMOSO'), ('FERNANDO COLLOR CONVERSAR JAIR BOLSONARO', 'FERNANDO_COLLOR&FAMOSO CONVERSAR JAIR_BOLSONARO&FAMOSO'), ('FERNANDO HADDAD CONVERSAR JAIR BOLSONARO', 'FERNANDO_HADDAD&FAMOSO CONVERSAR JAIR_BOLSONARO&FAMOSO'), ('GETÚLIO VARGAS CONVERSAR JAIR BOLSONARO', 'GETÚLIO_VARGAS&FAMOSO CONVERSAR JAIR_BOLSONARO&FAMOSO'), ('GUSTAVO CANUTO CONVERSAR JAIR BOLSONARO', 'GUSTAVO_CANUTO&FAMOSO CONVERSAR JAIR_BOLSONARO&FAMOSO'), ('HAMILTON MOURÃO CONVERSAR JAIR BOLSONARO', 'HAMILTON_MOURÃO&FAMOSO CONVERSAR JAIR_BOLSONARO&FAMOSO'), ('HARRY POTTER CONVERSAR JAIR BOLSONARO', 'HARRY_POTTER&FAMOSO CONVERSAR JAIR_BOLSONARO&FAMOSO'), ('HITLER CONVERSAR JAIR BOLSONARO', 'HITLER&FAMOSO CONVERSAR JAIR_BOLSONARO&FAMOSO')]\n",
      "\n",
      "[('ALEXANDRE GRANDE SAIR', 'ALEXANDRE_GRANDE&FAMOSO SAIR'), ('ANDRÉ LUIZ ALMEIDA SAIR', 'ANDRÉ_LUIZ_ALMEIDA&FAMOSO SAIR'), ('AUGUSTO HELENO SAIR', 'AUGUSTO_HELENO&FAMOSO SAIR'), ('BENTO COSTA LIMA SAIR', 'BENTO_COSTA_LIMA&FAMOSO SAIR'), ('CAZUZA SAIR', 'CAZUZA&FAMOSO SAIR'), ('DAMARES ALVES SAIR', 'DAMARES_ALVES&FAMOSO SAIR'), ('ERNESTO ARAÚJO SAIR', 'ERNESTO_ARAÚJO&FAMOSO SAIR'), ('FERNANDO AZEVEDO SAIR', 'FERNANDO_AZEVEDO&FAMOSO SAIR'), ('FERNANDO COLLOR SAIR', 'FERNANDO_COLLOR&FAMOSO SAIR'), ('FERNANDO HADDAD SAIR', 'FERNANDO_HADDAD&FAMOSO SAIR'), ('GETÚLIO VARGAS SAIR', 'GETÚLIO_VARGAS&FAMOSO SAIR'), ('GUSTAVO CANUTO SAIR', 'GUSTAVO_CANUTO&FAMOSO SAIR'), ('HAMILTON MOURÃO SAIR', 'HAMILTON_MOURÃO&FAMOSO SAIR'), ('HARRY POTTER SAIR', 'HARRY_POTTER&FAMOSO SAIR'), ('HITLER SAIR', 'HITLER&FAMOSO SAIR'), ('JAIR BOLSONARO SAIR', 'JAIR_BOLSONARO&FAMOSO SAIR'), ('JAIR MESSIAS BOLSONARO SAIR', 'JAIR_MESSIAS_BOLSONARO&FAMOSO SAIR')]\n",
      "\n",
      "[('JOHN ABRAHAM WEINTRAUB IR CASA', 'JOHN_ABRAHAM_WEINTRAUB&FAMOSO IR CASA'), ('JOHN ALEXANDRE GRANDE IR CASA', 'JOHN_ALEXANDRE_GRANDE&FAMOSO IR CASA'), ('JOHN ANDRÉ LUIZ ALMEIDA IR CASA', 'JOHN_ANDRÉ_LUIZ_ALMEIDA&FAMOSO IR CASA'), ('JOHN AUGUSTO HELENO IR CASA', 'JOHN_AUGUSTO_HELENO&FAMOSO IR CASA'), ('JOHN BENTO COSTA LIMA IR CASA', 'JOHN_BENTO_COSTA_LIMA&FAMOSO IR CASA'), ('JOHN CAZUZA IR CASA', 'JOHN_CAZUZA&FAMOSO IR CASA'), ('JOHN DAMARES ALVES IR CASA', 'JOHN_DAMARES_ALVES&FAMOSO IR CASA'), ('JOHN ERNESTO ARAÚJO IR CASA', 'JOHN_ERNESTO_ARAÚJO&FAMOSO IR CASA'), ('JOHN FERNANDO AZEVEDO IR CASA', 'JOHN_FERNANDO_AZEVEDO&FAMOSO IR CASA'), ('JOHN FERNANDO COLLOR IR CASA', 'JOHN_FERNANDO_COLLOR&FAMOSO IR CASA'), ('JOHN FERNANDO HADDAD IR CASA', 'JOHN_FERNANDO_HADDAD&FAMOSO IR CASA'), ('JOHN GETÚLIO VARGAS IR CASA', 'JOHN_GETÚLIO_VARGAS&FAMOSO IR CASA'), ('JOHN GUSTAVO CANUTO IR CASA', 'JOHN_GUSTAVO_CANUTO&FAMOSO IR CASA'), ('JOHN HAMILTON MOURÃO IR CASA', 'JOHN_HAMILTON_MOURÃO&FAMOSO IR CASA'), ('JOHN HARRY POTTER IR CASA', 'JOHN_HARRY_POTTER&FAMOSO IR CASA'), ('JOHN HITLER IR CASA', 'JOHN_HITLER&FAMOSO IR CASA'), ('JOHN JAIR BOLSONARO IR CASA', 'JOHN_JAIR_BOLSONARO&FAMOSO IR CASA'), ('JOHN JAIR MESSIAS BOLSONARO IR CASA', 'JOHN_JAIR_MESSIAS_BOLSONARO&FAMOSO IR CASA')]\n",
      "\n",
      "[('HARRY ABRAHAM WEINTRAUB CONVERSAR HITLER', 'HARRY_ABRAHAM_WEINTRAUB&FAMOSO CONVERSAR HITLER&FAMOSO'), ('HARRY ALEXANDRE GRANDE CONVERSAR HITLER', 'HARRY_ALEXANDRE_GRANDE&FAMOSO CONVERSAR HITLER&FAMOSO'), ('HARRY ANDRÉ LUIZ ALMEIDA CONVERSAR HITLER', 'HARRY_ANDRÉ_LUIZ_ALMEIDA&FAMOSO CONVERSAR HITLER&FAMOSO'), ('HARRY AUGUSTO HELENO CONVERSAR HITLER', 'HARRY_AUGUSTO_HELENO&FAMOSO CONVERSAR HITLER&FAMOSO'), ('HARRY BENTO COSTA LIMA CONVERSAR HITLER', 'HARRY_BENTO_COSTA_LIMA&FAMOSO CONVERSAR HITLER&FAMOSO'), ('HARRY CAZUZA CONVERSAR HITLER', 'HARRY_CAZUZA&FAMOSO CONVERSAR HITLER&FAMOSO'), ('HARRY DAMARES ALVES CONVERSAR HITLER', 'HARRY_DAMARES_ALVES&FAMOSO CONVERSAR HITLER&FAMOSO'), ('HARRY ERNESTO ARAÚJO CONVERSAR HITLER', 'HARRY_ERNESTO_ARAÚJO&FAMOSO CONVERSAR HITLER&FAMOSO'), ('HARRY FERNANDO AZEVEDO CONVERSAR HITLER', 'HARRY_FERNANDO_AZEVEDO&FAMOSO CONVERSAR HITLER&FAMOSO'), ('HARRY FERNANDO COLLOR CONVERSAR HITLER', 'HARRY_FERNANDO_COLLOR&FAMOSO CONVERSAR HITLER&FAMOSO'), ('HARRY FERNANDO HADDAD CONVERSAR HITLER', 'HARRY_FERNANDO_HADDAD&FAMOSO CONVERSAR HITLER&FAMOSO'), ('HARRY GETÚLIO VARGAS CONVERSAR HITLER', 'HARRY_GETÚLIO_VARGAS&FAMOSO CONVERSAR HITLER&FAMOSO'), ('HARRY GUSTAVO CANUTO CONVERSAR HITLER', 'HARRY_GUSTAVO_CANUTO&FAMOSO CONVERSAR HITLER&FAMOSO'), ('HARRY HAMILTON MOURÃO CONVERSAR HITLER', 'HARRY_HAMILTON_MOURÃO&FAMOSO CONVERSAR HITLER&FAMOSO'), ('HARRY JAIR BOLSONARO CONVERSAR HITLER', 'HARRY_JAIR_BOLSONARO&FAMOSO CONVERSAR HITLER&FAMOSO'), ('HARRY JAIR MESSIAS BOLSONARO CONVERSAR HITLER', 'HARRY_JAIR_MESSIAS_BOLSONARO&FAMOSO CONVERSAR HITLER&FAMOSO')]\n",
      "\n",
      "[('OPA', 'OPA')]\n",
      "\n"
     ]
    }
   ],
   "source": [
    "for i in teste_frases:\n",
    "    print(augmentation_famosos(i, re_gr, re_gi, famosos_gr, famosos_gi, match_famoso_gr, match_famoso_gi))\n",
    "    print()"
   ]
  },
  {
   "cell_type": "code",
   "execution_count": null,
   "metadata": {},
   "outputs": [],
   "source": []
  }
 ],
 "metadata": {
  "kernelspec": {
   "display_name": "Python 3",
   "language": "python",
   "name": "python3"
  },
  "language_info": {
   "codemirror_mode": {
    "name": "ipython",
    "version": 3
   },
   "file_extension": ".py",
   "mimetype": "text/x-python",
   "name": "python",
   "nbconvert_exporter": "python",
   "pygments_lexer": "ipython3",
   "version": "3.7.6"
  }
 },
 "nbformat": 4,
 "nbformat_minor": 4
}
