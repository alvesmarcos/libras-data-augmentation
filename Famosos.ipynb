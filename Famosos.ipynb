{
 "cells": [
  {
   "cell_type": "markdown",
   "metadata": {},
   "source": [
    "# Data Augmentation Famosos\n",
    "\n",
    "<img src=\"https://vlibras.gov.br/assets/imgs/VLibrasLogoBarraPrincipal.png\" width=\"150px\" />"
   ]
  },
  {
   "cell_type": "code",
   "execution_count": 10,
   "metadata": {},
   "outputs": [],
   "source": [
    "import re\n",
    "import random\n",
    "import pandas as pd"
   ]
  },
  {
   "cell_type": "markdown",
   "metadata": {},
   "source": [
    "<h2>Função de augmentation</h2>\n",
    "\n",
    "Esta função tem por objetivo pegar uma tupla com a glosa de regra e glosa de ínterprete de uma única linha e retornar uma lista de tuplas com seus elementos sendo a mesma linha, porém com uma pequena modificação."
   ]
  },
  {
   "cell_type": "code",
   "execution_count": 11,
   "metadata": {},
   "outputs": [],
   "source": [
    "def augmentation_famosos(line, re_gr, re_gi, famososExamples_gr, famososExamples_gi, dict_gr, dict_gi):\n",
    "    lista = list()\n",
    "    \n",
    "    line_gr = line[0]\n",
    "    line_gi = line[1]\n",
    "    \n",
    "    occurences_gr = re.search(re_gr, line_gr)\n",
    "    occurences_gi = re.search(re_gi, line_gi)\n",
    "    \n",
    "    if occurences_gr and occurences_gi:\n",
    "        for index, (famoso_gr, famoso_gi) in enumerate(list(zip(famososExamples_gr, famososExamples_gi))):\n",
    "            if index == 18:\n",
    "                break\n",
    "            \n",
    "            if re.findall(dict_gr[famoso_gr], line_gr) == [] and re.findall(dict_gi[famoso_gi], line_gi) == []:\n",
    "                lista.append((re.sub(re_gr, famoso_gr, line_gr, 1), re.sub(re_gi, famoso_gi, line_gi, 1)))\n",
    "    \n",
    "        \n",
    "        return lista\n",
    "    \n",
    "    return [(line_gr, line_gi)]"
   ]
  },
  {
   "cell_type": "code",
   "execution_count": 12,
   "metadata": {},
   "outputs": [],
   "source": [
    "df_famosos = pd.read_csv('data/famosos_teste.csv')"
   ]
  },
  {
   "cell_type": "code",
   "execution_count": 13,
   "metadata": {},
   "outputs": [
    {
     "name": "stdout",
     "output_type": "stream",
     "text": [
      "                   gr                        gi\n",
      "52  EDUARDO BOLSONARO  EDUARDO_BOLSONARO&FAMOSO\n",
      "36    OSAMA BIN LADEN    OSAMA_BIN_LADEN&FAMOSO\n",
      "40       PAULA MOURÃO       PAULA_MOURÃO&FAMOSO\n",
      "51   FLÁVIO BOLSONARO   FLÁVIO_BOLSONARO&FAMOSO\n",
      "41       PAULO GUEDES       PAULO_GUEDES&FAMOSO\n",
      "5              CAZUZA             CAZUZA&FAMOSO\n",
      "48         TIRADENTES         TIRADENTES&FAMOSO\n",
      "8    FERNANDO AZEVEDO   FERNANDO_AZEVEDO&FAMOSO\n",
      "53       WAGNER MOURA       WAGNER_MOURA&FAMOSO\n",
      "31        MONTESQUIEU        MONTESQUIEU&FAMOSO\n"
     ]
    }
   ],
   "source": [
    "print(df_famosos.sample(10))"
   ]
  },
  {
   "cell_type": "markdown",
   "metadata": {},
   "source": [
    "<h2>Criação das expressões do regex</h2>\n",
    "\n",
    "Aqui são criadas as expressões que serão usadas para a troca de palavras do regex (guardada no dicionário match_famoso) e a expressão que deve verificar se o augmentation deverá ser realizado nesta linha."
   ]
  },
  {
   "cell_type": "code",
   "execution_count": 14,
   "metadata": {},
   "outputs": [],
   "source": [
    "famosos_gr, famosos_gi = df_famosos['gr'].values.tolist(), df_famosos['gi'].values.tolist()\n",
    "combined_gr = \"\"\n",
    "combined_gi = \"\"\n",
    "match_famoso_gr = {}\n",
    "match_famoso_gi = {}"
   ]
  },
  {
   "cell_type": "code",
   "execution_count": 15,
   "metadata": {},
   "outputs": [],
   "source": [
    "for (famoso_gr, famoso_gi) in list(zip(famosos_gr, famosos_gi)):\n",
    "    lista_gr = famoso_gr.split(' ')\n",
    "    lista_gi = famoso_gi.split('_')\n",
    "    match_famoso_gr[famoso_gr] = \"\"\n",
    "    match_famoso_gi[famoso_gi] = \"\"\n",
    "    combined_gr += \"(\"\n",
    "    combined_gi += \"(\"\n",
    "    \n",
    "    for i in range(0, len(lista_gr) - 1):\n",
    "        combined_gr += \"(\\\\b\" + (lista_gr[i]) + \"\\\\b)?(\\s)?\"\n",
    "        match_famoso_gr[famoso_gr] += \"(\\\\b\" + (lista_gr[i]) + \"\\\\b)?(\\s)?\"\n",
    "    for j in range(0, len(lista_gi) - 1):\n",
    "        combined_gi += \"(\" + (lista_gi[j]) + \"_)?\"\n",
    "        match_famoso_gi[famoso_gi] += \"(\" + (lista_gi[j]) + \"_)?\"\n",
    "    \n",
    "    combined_gr += \"(\\\\b\" + (''.join(lista_gr[-1:])) + \"\\\\b))|\"\n",
    "    match_famoso_gr[famoso_gr] += \"(\\\\b\" + (''.join(lista_gr[-1:])) + \"\\\\b)\"\n",
    "    match_famoso_gr[famoso_gr] = r\"\" + match_famoso_gr[famoso_gr]\n",
    "\n",
    "    combined_gi += \"\" + (''.join(lista_gi[-1:])) + \")|\"\n",
    "    match_famoso_gi[famoso_gi] += \"((\" + (''.join(lista_gi[-1:])) + \"))\"\n",
    "    match_famoso_gi[famoso_gi] = r\"\" + match_famoso_gi[famoso_gi]\n",
    "    \n",
    "combined_gr = combined_gr[:-1]\n",
    "re_gr = r\"\" + combined_gr\n",
    "combined_gi = combined_gi[:-1]\n",
    "re_gi = r\"\" + combined_gi"
   ]
  },
  {
   "cell_type": "markdown",
   "metadata": {
    "scrolled": true
   },
   "source": [
    "<h2>Aqui são as frases que serão usadas como exemplo para o augmentation:</h2>"
   ]
  },
  {
   "cell_type": "code",
   "execution_count": 16,
   "metadata": {},
   "outputs": [],
   "source": [
    "teste_frases = [('WEINTRAUB CONVERSAR JAIR BOLSONARO', 'WEINTRAUB&FAMOSO CONVERSAR JAIR_BOLSONARO&FAMOSO'), ('WEINTRAUB SAIR', 'WEINTRAUB&FAMOSO SAIR'),\n",
    "                ('JOHN LENNON IR CASA', 'JOHN_LENNON&FAMOSO IR CASA'), ('HARRY POTTER CONVERSAR HITLER', 'HARRY_POTTER&FAMOSO CONVERSAR HITLER&FAMOSO'),\n",
    "                ('OPA', 'OPA')]"
   ]
  },
  {
   "cell_type": "markdown",
   "metadata": {},
   "source": [
    "<h2>Aqui será realizado o augmentation para cada linha do arquivo:</h2>"
   ]
  },
  {
   "cell_type": "code",
   "execution_count": 17,
   "metadata": {},
   "outputs": [
    {
     "name": "stdout",
     "output_type": "stream",
     "text": [
      "[('ALEXANDRE GRANDE CONVERSAR JAIR BOLSONARO', 'ALEXANDRE_GRANDE&FAMOSO CONVERSAR JAIR_BOLSONARO&FAMOSO'), ('ANDRÉ LUIZ ALMEIDA CONVERSAR JAIR BOLSONARO', 'ANDRÉ_LUIZ_ALMEIDA&FAMOSO CONVERSAR JAIR_BOLSONARO&FAMOSO'), ('AUGUSTO HELENO CONVERSAR JAIR BOLSONARO', 'AUGUSTO_HELENO&FAMOSO CONVERSAR JAIR_BOLSONARO&FAMOSO'), ('BENTO COSTA LIMA CONVERSAR JAIR BOLSONARO', 'BENTO_COSTA_LIMA&FAMOSO CONVERSAR JAIR_BOLSONARO&FAMOSO'), ('CAZUZA CONVERSAR JAIR BOLSONARO', 'CAZUZA&FAMOSO CONVERSAR JAIR_BOLSONARO&FAMOSO'), ('DAMARES ALVES CONVERSAR JAIR BOLSONARO', 'DAMARES_ALVES&FAMOSO CONVERSAR JAIR_BOLSONARO&FAMOSO'), ('ERNESTO ARAÚJO CONVERSAR JAIR BOLSONARO', 'ERNESTO_ARAÚJO&FAMOSO CONVERSAR JAIR_BOLSONARO&FAMOSO'), ('FERNANDO AZEVEDO CONVERSAR JAIR BOLSONARO', 'FERNANDO_AZEVEDO&FAMOSO CONVERSAR JAIR_BOLSONARO&FAMOSO'), ('FERNANDO COLLOR CONVERSAR JAIR BOLSONARO', 'FERNANDO_COLLOR&FAMOSO CONVERSAR JAIR_BOLSONARO&FAMOSO'), ('FERNANDO HADDAD CONVERSAR JAIR BOLSONARO', 'FERNANDO_HADDAD&FAMOSO CONVERSAR JAIR_BOLSONARO&FAMOSO'), ('GETÚLIO VARGAS CONVERSAR JAIR BOLSONARO', 'GETÚLIO_VARGAS&FAMOSO CONVERSAR JAIR_BOLSONARO&FAMOSO'), ('GUSTAVO CANUTO CONVERSAR JAIR BOLSONARO', 'GUSTAVO_CANUTO&FAMOSO CONVERSAR JAIR_BOLSONARO&FAMOSO'), ('HAMILTON MOURÃO CONVERSAR JAIR BOLSONARO', 'HAMILTON_MOURÃO&FAMOSO CONVERSAR JAIR_BOLSONARO&FAMOSO'), ('HARRY POTTER CONVERSAR JAIR BOLSONARO', 'HARRY_POTTER&FAMOSO CONVERSAR JAIR_BOLSONARO&FAMOSO'), ('HITLER CONVERSAR JAIR BOLSONARO', 'HITLER&FAMOSO CONVERSAR JAIR_BOLSONARO&FAMOSO')]\n",
      "\n",
      "[('ALEXANDRE GRANDE SAIR', 'ALEXANDRE_GRANDE&FAMOSO SAIR'), ('ANDRÉ LUIZ ALMEIDA SAIR', 'ANDRÉ_LUIZ_ALMEIDA&FAMOSO SAIR'), ('AUGUSTO HELENO SAIR', 'AUGUSTO_HELENO&FAMOSO SAIR'), ('BENTO COSTA LIMA SAIR', 'BENTO_COSTA_LIMA&FAMOSO SAIR'), ('CAZUZA SAIR', 'CAZUZA&FAMOSO SAIR'), ('DAMARES ALVES SAIR', 'DAMARES_ALVES&FAMOSO SAIR'), ('ERNESTO ARAÚJO SAIR', 'ERNESTO_ARAÚJO&FAMOSO SAIR'), ('FERNANDO AZEVEDO SAIR', 'FERNANDO_AZEVEDO&FAMOSO SAIR'), ('FERNANDO COLLOR SAIR', 'FERNANDO_COLLOR&FAMOSO SAIR'), ('FERNANDO HADDAD SAIR', 'FERNANDO_HADDAD&FAMOSO SAIR'), ('GETÚLIO VARGAS SAIR', 'GETÚLIO_VARGAS&FAMOSO SAIR'), ('GUSTAVO CANUTO SAIR', 'GUSTAVO_CANUTO&FAMOSO SAIR'), ('HAMILTON MOURÃO SAIR', 'HAMILTON_MOURÃO&FAMOSO SAIR'), ('HARRY POTTER SAIR', 'HARRY_POTTER&FAMOSO SAIR'), ('HITLER SAIR', 'HITLER&FAMOSO SAIR'), ('JAIR BOLSONARO SAIR', 'JAIR_BOLSONARO&FAMOSO SAIR'), ('JAIR MESSIAS BOLSONARO SAIR', 'JAIR_MESSIAS_BOLSONARO&FAMOSO SAIR')]\n",
      "\n",
      "[('ABRAHAM WEINTRAUB IR CASA', 'ABRAHAM_WEINTRAUB&FAMOSO IR CASA'), ('ALEXANDRE GRANDE IR CASA', 'ALEXANDRE_GRANDE&FAMOSO IR CASA'), ('ANDRÉ LUIZ ALMEIDA IR CASA', 'ANDRÉ_LUIZ_ALMEIDA&FAMOSO IR CASA'), ('AUGUSTO HELENO IR CASA', 'AUGUSTO_HELENO&FAMOSO IR CASA'), ('BENTO COSTA LIMA IR CASA', 'BENTO_COSTA_LIMA&FAMOSO IR CASA'), ('CAZUZA IR CASA', 'CAZUZA&FAMOSO IR CASA'), ('DAMARES ALVES IR CASA', 'DAMARES_ALVES&FAMOSO IR CASA'), ('ERNESTO ARAÚJO IR CASA', 'ERNESTO_ARAÚJO&FAMOSO IR CASA'), ('FERNANDO AZEVEDO IR CASA', 'FERNANDO_AZEVEDO&FAMOSO IR CASA'), ('FERNANDO COLLOR IR CASA', 'FERNANDO_COLLOR&FAMOSO IR CASA'), ('FERNANDO HADDAD IR CASA', 'FERNANDO_HADDAD&FAMOSO IR CASA'), ('GETÚLIO VARGAS IR CASA', 'GETÚLIO_VARGAS&FAMOSO IR CASA'), ('GUSTAVO CANUTO IR CASA', 'GUSTAVO_CANUTO&FAMOSO IR CASA'), ('HAMILTON MOURÃO IR CASA', 'HAMILTON_MOURÃO&FAMOSO IR CASA'), ('HARRY POTTER IR CASA', 'HARRY_POTTER&FAMOSO IR CASA'), ('HITLER IR CASA', 'HITLER&FAMOSO IR CASA'), ('JAIR BOLSONARO IR CASA', 'JAIR_BOLSONARO&FAMOSO IR CASA'), ('JAIR MESSIAS BOLSONARO IR CASA', 'JAIR_MESSIAS_BOLSONARO&FAMOSO IR CASA')]\n",
      "\n",
      "[('ABRAHAM WEINTRAUB CONVERSAR HITLER', 'ABRAHAM_WEINTRAUB&FAMOSO CONVERSAR HITLER&FAMOSO'), ('ALEXANDRE GRANDE CONVERSAR HITLER', 'ALEXANDRE_GRANDE&FAMOSO CONVERSAR HITLER&FAMOSO'), ('ANDRÉ LUIZ ALMEIDA CONVERSAR HITLER', 'ANDRÉ_LUIZ_ALMEIDA&FAMOSO CONVERSAR HITLER&FAMOSO'), ('AUGUSTO HELENO CONVERSAR HITLER', 'AUGUSTO_HELENO&FAMOSO CONVERSAR HITLER&FAMOSO'), ('BENTO COSTA LIMA CONVERSAR HITLER', 'BENTO_COSTA_LIMA&FAMOSO CONVERSAR HITLER&FAMOSO'), ('CAZUZA CONVERSAR HITLER', 'CAZUZA&FAMOSO CONVERSAR HITLER&FAMOSO'), ('DAMARES ALVES CONVERSAR HITLER', 'DAMARES_ALVES&FAMOSO CONVERSAR HITLER&FAMOSO'), ('ERNESTO ARAÚJO CONVERSAR HITLER', 'ERNESTO_ARAÚJO&FAMOSO CONVERSAR HITLER&FAMOSO'), ('FERNANDO AZEVEDO CONVERSAR HITLER', 'FERNANDO_AZEVEDO&FAMOSO CONVERSAR HITLER&FAMOSO'), ('FERNANDO COLLOR CONVERSAR HITLER', 'FERNANDO_COLLOR&FAMOSO CONVERSAR HITLER&FAMOSO'), ('FERNANDO HADDAD CONVERSAR HITLER', 'FERNANDO_HADDAD&FAMOSO CONVERSAR HITLER&FAMOSO'), ('GETÚLIO VARGAS CONVERSAR HITLER', 'GETÚLIO_VARGAS&FAMOSO CONVERSAR HITLER&FAMOSO'), ('GUSTAVO CANUTO CONVERSAR HITLER', 'GUSTAVO_CANUTO&FAMOSO CONVERSAR HITLER&FAMOSO'), ('HAMILTON MOURÃO CONVERSAR HITLER', 'HAMILTON_MOURÃO&FAMOSO CONVERSAR HITLER&FAMOSO'), ('JAIR BOLSONARO CONVERSAR HITLER', 'JAIR_BOLSONARO&FAMOSO CONVERSAR HITLER&FAMOSO'), ('JAIR MESSIAS BOLSONARO CONVERSAR HITLER', 'JAIR_MESSIAS_BOLSONARO&FAMOSO CONVERSAR HITLER&FAMOSO')]\n",
      "\n",
      "[('OPA', 'OPA')]\n",
      "\n"
     ]
    }
   ],
   "source": [
    "for i in teste_frases:\n",
    "    print(augmentation_famosos(i, re_gr, re_gi, famosos_gr, famosos_gi, match_famoso_gr, match_famoso_gi))\n",
    "    print()"
   ]
  },
  {
   "cell_type": "code",
   "execution_count": null,
   "metadata": {},
   "outputs": [],
   "source": []
  }
 ],
 "metadata": {
  "kernelspec": {
   "display_name": "Python 3",
   "language": "python",
   "name": "python3"
  },
  "language_info": {
   "codemirror_mode": {
    "name": "ipython",
    "version": 3
   },
   "file_extension": ".py",
   "mimetype": "text/x-python",
   "name": "python",
   "nbconvert_exporter": "python",
   "pygments_lexer": "ipython3",
   "version": "3.7.6"
  }
 },
 "nbformat": 4,
 "nbformat_minor": 4
}
